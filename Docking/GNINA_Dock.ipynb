{
  "nbformat": 4,
  "nbformat_minor": 0,
  "metadata": {
    "colab": {
      "provenance": [],
      "collapsed_sections": [
        "pKRV6hgJGhWS"
      ]
    },
    "kernelspec": {
      "name": "python3",
      "display_name": "Python 3"
    },
    "language_info": {
      "name": "python"
    }
  },
  "cells": [
    {
      "cell_type": "code",
      "execution_count": 1,
      "metadata": {
        "colab": {
          "base_uri": "https://localhost:8080/"
        },
        "collapsed": true,
        "id": "nnseGHxbSXsY",
        "outputId": "ce53d3f6-562d-44ae-8b9c-6a9ab10902db"
      },
      "outputs": [
        {
          "output_type": "stream",
          "name": "stdout",
          "text": [
            "Collecting vina\n",
            "  Downloading vina-1.2.7-cp311-cp311-manylinux_2_17_x86_64.manylinux2014_x86_64.whl.metadata (3.1 kB)\n",
            "Collecting mdanalysis\n",
            "  Downloading mdanalysis-2.9.0-cp311-cp311-manylinux_2_17_x86_64.manylinux2014_x86_64.whl.metadata (108 kB)\n",
            "\u001b[?25l     \u001b[90m━━━━━━━━━━━━━━━━━━━━━━━━━━━━━━━━━━━━━━━━\u001b[0m \u001b[32m0.0/108.7 kB\u001b[0m \u001b[31m?\u001b[0m eta \u001b[36m-:--:--\u001b[0m\r\u001b[2K     \u001b[90m━━━━━━━━━━━━━━━━━━━━━━━━━━━━━━━━━━━━━━━\u001b[0m \u001b[32m108.7/108.7 kB\u001b[0m \u001b[31m3.6 MB/s\u001b[0m eta \u001b[36m0:00:00\u001b[0m\n",
            "\u001b[?25hRequirement already satisfied: numpy>=1.18 in /usr/local/lib/python3.11/dist-packages (from vina) (2.0.2)\n",
            "Requirement already satisfied: setuptools>=50.3 in /usr/local/lib/python3.11/dist-packages (from vina) (75.2.0)\n",
            "Requirement already satisfied: wheel in /usr/local/lib/python3.11/dist-packages (from vina) (0.45.1)\n",
            "Requirement already satisfied: packaging in /usr/local/lib/python3.11/dist-packages (from vina) (24.2)\n",
            "Collecting GridDataFormats>=0.4.0 (from mdanalysis)\n",
            "  Downloading GridDataFormats-1.0.2-py3-none-any.whl.metadata (4.9 kB)\n",
            "Collecting mmtf-python>=1.0.0 (from mdanalysis)\n",
            "  Downloading mmtf_python-1.1.3-py2.py3-none-any.whl.metadata (1.2 kB)\n",
            "Requirement already satisfied: joblib>=0.12 in /usr/local/lib/python3.11/dist-packages (from mdanalysis) (1.5.1)\n",
            "Requirement already satisfied: scipy>=1.5.0 in /usr/local/lib/python3.11/dist-packages (from mdanalysis) (1.15.3)\n",
            "Requirement already satisfied: matplotlib>=1.5.1 in /usr/local/lib/python3.11/dist-packages (from mdanalysis) (3.10.0)\n",
            "Requirement already satisfied: tqdm>=4.43.0 in /usr/local/lib/python3.11/dist-packages (from mdanalysis) (4.67.1)\n",
            "Requirement already satisfied: threadpoolctl in /usr/local/lib/python3.11/dist-packages (from mdanalysis) (3.6.0)\n",
            "Requirement already satisfied: filelock in /usr/local/lib/python3.11/dist-packages (from mdanalysis) (3.18.0)\n",
            "Collecting mda-xdrlib (from mdanalysis)\n",
            "  Downloading mda_xdrlib-0.2.0-py3-none-any.whl.metadata (19 kB)\n",
            "Collecting mrcfile (from GridDataFormats>=0.4.0->mdanalysis)\n",
            "  Downloading mrcfile-1.5.4-py2.py3-none-any.whl.metadata (7.0 kB)\n",
            "Requirement already satisfied: contourpy>=1.0.1 in /usr/local/lib/python3.11/dist-packages (from matplotlib>=1.5.1->mdanalysis) (1.3.2)\n",
            "Requirement already satisfied: cycler>=0.10 in /usr/local/lib/python3.11/dist-packages (from matplotlib>=1.5.1->mdanalysis) (0.12.1)\n",
            "Requirement already satisfied: fonttools>=4.22.0 in /usr/local/lib/python3.11/dist-packages (from matplotlib>=1.5.1->mdanalysis) (4.58.4)\n",
            "Requirement already satisfied: kiwisolver>=1.3.1 in /usr/local/lib/python3.11/dist-packages (from matplotlib>=1.5.1->mdanalysis) (1.4.8)\n",
            "Requirement already satisfied: pillow>=8 in /usr/local/lib/python3.11/dist-packages (from matplotlib>=1.5.1->mdanalysis) (11.2.1)\n",
            "Requirement already satisfied: pyparsing>=2.3.1 in /usr/local/lib/python3.11/dist-packages (from matplotlib>=1.5.1->mdanalysis) (3.2.3)\n",
            "Requirement already satisfied: python-dateutil>=2.7 in /usr/local/lib/python3.11/dist-packages (from matplotlib>=1.5.1->mdanalysis) (2.9.0.post0)\n",
            "Requirement already satisfied: msgpack>=1.0.0 in /usr/local/lib/python3.11/dist-packages (from mmtf-python>=1.0.0->mdanalysis) (1.1.1)\n",
            "Requirement already satisfied: six>=1.5 in /usr/local/lib/python3.11/dist-packages (from python-dateutil>=2.7->matplotlib>=1.5.1->mdanalysis) (1.17.0)\n",
            "Downloading vina-1.2.7-cp311-cp311-manylinux_2_17_x86_64.manylinux2014_x86_64.whl (6.8 MB)\n",
            "\u001b[2K   \u001b[90m━━━━━━━━━━━━━━━━━━━━━━━━━━━━━━━━━━━━━━━━\u001b[0m \u001b[32m6.8/6.8 MB\u001b[0m \u001b[31m52.3 MB/s\u001b[0m eta \u001b[36m0:00:00\u001b[0m\n",
            "\u001b[?25hDownloading mdanalysis-2.9.0-cp311-cp311-manylinux_2_17_x86_64.manylinux2014_x86_64.whl (13.0 MB)\n",
            "\u001b[2K   \u001b[90m━━━━━━━━━━━━━━━━━━━━━━━━━━━━━━━━━━━━━━━━\u001b[0m \u001b[32m13.0/13.0 MB\u001b[0m \u001b[31m85.3 MB/s\u001b[0m eta \u001b[36m0:00:00\u001b[0m\n",
            "\u001b[?25hDownloading GridDataFormats-1.0.2-py3-none-any.whl (2.1 MB)\n",
            "\u001b[2K   \u001b[90m━━━━━━━━━━━━━━━━━━━━━━━━━━━━━━━━━━━━━━━━\u001b[0m \u001b[32m2.1/2.1 MB\u001b[0m \u001b[31m60.9 MB/s\u001b[0m eta \u001b[36m0:00:00\u001b[0m\n",
            "\u001b[?25hDownloading mmtf_python-1.1.3-py2.py3-none-any.whl (25 kB)\n",
            "Downloading mda_xdrlib-0.2.0-py3-none-any.whl (14 kB)\n",
            "Downloading mrcfile-1.5.4-py2.py3-none-any.whl (45 kB)\n",
            "\u001b[2K   \u001b[90m━━━━━━━━━━━━━━━━━━━━━━━━━━━━━━━━━━━━━━━━\u001b[0m \u001b[32m45.0/45.0 kB\u001b[0m \u001b[31m2.8 MB/s\u001b[0m eta \u001b[36m0:00:00\u001b[0m\n",
            "\u001b[?25hInstalling collected packages: vina, mrcfile, mmtf-python, mda-xdrlib, GridDataFormats, mdanalysis\n",
            "Successfully installed GridDataFormats-1.0.2 mda-xdrlib-0.2.0 mdanalysis-2.9.0 mmtf-python-1.1.3 mrcfile-1.5.4 vina-1.2.7\n"
          ]
        }
      ],
      "source": [
        "!pip install vina mdanalysis"
      ]
    },
    {
      "cell_type": "markdown",
      "source": [
        "# **Files preparation**\n",
        "\n"
      ],
      "metadata": {
        "id": "7le4aQjmkxeI"
      }
    },
    {
      "cell_type": "code",
      "source": [
        "import requests\n",
        "\n",
        "# Download the protein file\n",
        "pdb_id = '1lpb'\n",
        "\n",
        "protein_url = f\"https://files.rcsb.org/download/{pdb_id}.pdb\"\n",
        "print(f\"{pdb_id} structure is downloaded\")\n",
        "\n",
        "# Send the request and save the returned JSON blob as a variable\n",
        "protein_request = requests.get(protein_url)\n",
        "protein_request.raise_for_status() # Check for errors"
      ],
      "metadata": {
        "colab": {
          "base_uri": "https://localhost:8080/"
        },
        "id": "M67XnNbvtMmR",
        "outputId": "5a6bb134-8eaa-4c2e-b8ce-443993864971"
      },
      "execution_count": 1,
      "outputs": [
        {
          "output_type": "stream",
          "name": "stdout",
          "text": [
            "1lpb structure is downloaded\n"
          ]
        }
      ]
    },
    {
      "cell_type": "code",
      "source": [
        "# Define the full path to the file you want to save\n",
        "protein_filepath = f\"/content/{pdb_id}.pdb\"\n",
        "\n",
        "# Save the actual text of the returned PDB blob as a file\n",
        "with open(protein_filepath, \"w\") as f:\n",
        "    f.write(protein_request.text)\n",
        "\n",
        "print(f\"Saved protein to {protein_filepath}\")"
      ],
      "metadata": {
        "colab": {
          "base_uri": "https://localhost:8080/"
        },
        "id": "5I2GNopBthSO",
        "outputId": "7cdc5bf7-05b7-4328-e0bf-38ca4bf04e82"
      },
      "execution_count": 2,
      "outputs": [
        {
          "output_type": "stream",
          "name": "stdout",
          "text": [
            "Saved protein to /content/1lpb.pdb\n"
          ]
        }
      ]
    },
    {
      "cell_type": "markdown",
      "source": [
        "# **Docking w/ Catalitic Triad's Coordinate**"
      ],
      "metadata": {
        "id": "WjNIACWCiaV5"
      }
    },
    {
      "cell_type": "code",
      "source": [
        "import MDAnalysis as mda\n",
        "\n",
        "protein = mda.Universe('/content/1lpb.pdb')\n",
        "ligand_select = protein.select_atoms('resid 451') # There are more than 1 ligand, so we have to specify the location\n",
        "\n",
        "box_size = ligand_select.positions.max(axis=0) - ligand_select.positions.min(axis=0) + 5\n",
        "print(box_size)"
      ],
      "metadata": {
        "colab": {
          "base_uri": "https://localhost:8080/"
        },
        "id": "76CoWXoZeIjl",
        "outputId": "179df252-7596-4a84-b08a-fce5d9e11191"
      },
      "execution_count": 3,
      "outputs": [
        {
          "output_type": "stream",
          "name": "stderr",
          "text": [
            "WARNING:MDAnalysis.coordinates.AMBER:netCDF4 is not available. Writing AMBER ncdf files will be slow.\n"
          ]
        },
        {
          "output_type": "stream",
          "name": "stdout",
          "text": [
            "[16.792    13.950999 13.709   ]\n"
          ]
        }
      ]
    },
    {
      "cell_type": "code",
      "source": [
        "# Use the box size and convert them to list\n",
        "box_size = box_size.tolist()"
      ],
      "metadata": {
        "id": "07Y97zKWScAi"
      },
      "execution_count": 4,
      "outputs": []
    },
    {
      "cell_type": "code",
      "source": [
        "# Set up the box center (by using the catalytic triad's coordinates)\n",
        "pocket_center = [4.641838, 28.72172, 49.18972]\n",
        "print(pocket_center)"
      ],
      "metadata": {
        "colab": {
          "base_uri": "https://localhost:8080/"
        },
        "id": "ja8n1SQQSb_t",
        "outputId": "f00169c5-4467-4710-9c8b-c35730fc7e37"
      },
      "execution_count": null,
      "outputs": [
        {
          "output_type": "stream",
          "name": "stdout",
          "text": [
            "[4.641838, 28.72172, 49.18972]\n"
          ]
        }
      ]
    },
    {
      "cell_type": "code",
      "source": [
        "# Selecting the scoring function method\n",
        "from vina import Vina\n",
        "v = Vina(sf_name='vina')\n",
        "\n",
        "# Defining the molecules\n",
        "v.set_receptor('/content/1LPB_restrain_xr.pdbqt')\n",
        "v.set_ligand_from_file('/content/BOG_ideal.pdbqt')\n",
        "v.compute_vina_maps(center=pocket_center, box_size=box_size)"
      ],
      "metadata": {
        "id": "dGS34_p-ScUN"
      },
      "execution_count": null,
      "outputs": []
    },
    {
      "cell_type": "markdown",
      "source": [
        "Running the docking process"
      ],
      "metadata": {
        "id": "ovLAd9Bxi3Op"
      }
    },
    {
      "cell_type": "code",
      "source": [
        "v.dock(exhaustiveness=32, n_poses=5)"
      ],
      "metadata": {
        "id": "cx0_VD7hSlwm"
      },
      "execution_count": null,
      "outputs": []
    },
    {
      "cell_type": "code",
      "source": [
        "v.write_poses('BOG_cat.pdbqt', n_poses=5, overwrite=True)"
      ],
      "metadata": {
        "id": "2eLbAZ0ASo1t"
      },
      "execution_count": null,
      "outputs": []
    },
    {
      "cell_type": "code",
      "source": [
        "v.energies()"
      ],
      "metadata": {
        "colab": {
          "base_uri": "https://localhost:8080/"
        },
        "id": "zulM-QxkSo5y",
        "outputId": "19c7784f-15e7-4d32-977e-7c12f910e892"
      },
      "execution_count": null,
      "outputs": [
        {
          "output_type": "execute_result",
          "data": {
            "text/plain": [
              "array([[-3.093, -5.173, -0.137,  2.08 , -0.137],\n",
              "       [-2.519, -4.607,  0.258,  1.693, -0.137],\n",
              "       [-1.957, -3.477,  0.066,  1.316, -0.137],\n",
              "       [-1.796, -4.013,  0.871,  1.208, -0.137],\n",
              "       [-1.58 , -2.89 ,  0.11 ,  1.063, -0.137]])"
            ]
          },
          "metadata": {},
          "execution_count": 9
        }
      ]
    },
    {
      "cell_type": "code",
      "source": [
        "import pandas as pd\n",
        "\n",
        "# Adding columns name\n",
        "column_names = ['total', 'inter', 'intra', 'torsions', 'intra best pose']\n",
        "\n",
        "df = pd.DataFrame(v.energies(), columns=column_names)\n",
        "df.head()"
      ],
      "metadata": {
        "colab": {
          "base_uri": "https://localhost:8080/",
          "height": 206
        },
        "id": "Rxbi08SNSsPP",
        "outputId": "255fdda4-f879-402e-8401-d9384e9d1744"
      },
      "execution_count": null,
      "outputs": [
        {
          "output_type": "execute_result",
          "data": {
            "text/plain": [
              "   total  inter  intra  torsions  intra best pose\n",
              "0 -3.093 -5.173 -0.137     2.080           -0.137\n",
              "1 -2.519 -4.607  0.258     1.693           -0.137\n",
              "2 -1.957 -3.477  0.066     1.316           -0.137\n",
              "3 -1.796 -4.013  0.871     1.208           -0.137\n",
              "4 -1.580 -2.890  0.110     1.063           -0.137"
            ],
            "text/html": [
              "\n",
              "  <div id=\"df-b48772d3-7b6a-48a1-bee7-4c5bf24362bf\" class=\"colab-df-container\">\n",
              "    <div>\n",
              "<style scoped>\n",
              "    .dataframe tbody tr th:only-of-type {\n",
              "        vertical-align: middle;\n",
              "    }\n",
              "\n",
              "    .dataframe tbody tr th {\n",
              "        vertical-align: top;\n",
              "    }\n",
              "\n",
              "    .dataframe thead th {\n",
              "        text-align: right;\n",
              "    }\n",
              "</style>\n",
              "<table border=\"1\" class=\"dataframe\">\n",
              "  <thead>\n",
              "    <tr style=\"text-align: right;\">\n",
              "      <th></th>\n",
              "      <th>total</th>\n",
              "      <th>inter</th>\n",
              "      <th>intra</th>\n",
              "      <th>torsions</th>\n",
              "      <th>intra best pose</th>\n",
              "    </tr>\n",
              "  </thead>\n",
              "  <tbody>\n",
              "    <tr>\n",
              "      <th>0</th>\n",
              "      <td>-3.093</td>\n",
              "      <td>-5.173</td>\n",
              "      <td>-0.137</td>\n",
              "      <td>2.080</td>\n",
              "      <td>-0.137</td>\n",
              "    </tr>\n",
              "    <tr>\n",
              "      <th>1</th>\n",
              "      <td>-2.519</td>\n",
              "      <td>-4.607</td>\n",
              "      <td>0.258</td>\n",
              "      <td>1.693</td>\n",
              "      <td>-0.137</td>\n",
              "    </tr>\n",
              "    <tr>\n",
              "      <th>2</th>\n",
              "      <td>-1.957</td>\n",
              "      <td>-3.477</td>\n",
              "      <td>0.066</td>\n",
              "      <td>1.316</td>\n",
              "      <td>-0.137</td>\n",
              "    </tr>\n",
              "    <tr>\n",
              "      <th>3</th>\n",
              "      <td>-1.796</td>\n",
              "      <td>-4.013</td>\n",
              "      <td>0.871</td>\n",
              "      <td>1.208</td>\n",
              "      <td>-0.137</td>\n",
              "    </tr>\n",
              "    <tr>\n",
              "      <th>4</th>\n",
              "      <td>-1.580</td>\n",
              "      <td>-2.890</td>\n",
              "      <td>0.110</td>\n",
              "      <td>1.063</td>\n",
              "      <td>-0.137</td>\n",
              "    </tr>\n",
              "  </tbody>\n",
              "</table>\n",
              "</div>\n",
              "    <div class=\"colab-df-buttons\">\n",
              "\n",
              "  <div class=\"colab-df-container\">\n",
              "    <button class=\"colab-df-convert\" onclick=\"convertToInteractive('df-b48772d3-7b6a-48a1-bee7-4c5bf24362bf')\"\n",
              "            title=\"Convert this dataframe to an interactive table.\"\n",
              "            style=\"display:none;\">\n",
              "\n",
              "  <svg xmlns=\"http://www.w3.org/2000/svg\" height=\"24px\" viewBox=\"0 -960 960 960\">\n",
              "    <path d=\"M120-120v-720h720v720H120Zm60-500h600v-160H180v160Zm220 220h160v-160H400v160Zm0 220h160v-160H400v160ZM180-400h160v-160H180v160Zm440 0h160v-160H620v160ZM180-180h160v-160H180v160Zm440 0h160v-160H620v160Z\"/>\n",
              "  </svg>\n",
              "    </button>\n",
              "\n",
              "  <style>\n",
              "    .colab-df-container {\n",
              "      display:flex;\n",
              "      gap: 12px;\n",
              "    }\n",
              "\n",
              "    .colab-df-convert {\n",
              "      background-color: #E8F0FE;\n",
              "      border: none;\n",
              "      border-radius: 50%;\n",
              "      cursor: pointer;\n",
              "      display: none;\n",
              "      fill: #1967D2;\n",
              "      height: 32px;\n",
              "      padding: 0 0 0 0;\n",
              "      width: 32px;\n",
              "    }\n",
              "\n",
              "    .colab-df-convert:hover {\n",
              "      background-color: #E2EBFA;\n",
              "      box-shadow: 0px 1px 2px rgba(60, 64, 67, 0.3), 0px 1px 3px 1px rgba(60, 64, 67, 0.15);\n",
              "      fill: #174EA6;\n",
              "    }\n",
              "\n",
              "    .colab-df-buttons div {\n",
              "      margin-bottom: 4px;\n",
              "    }\n",
              "\n",
              "    [theme=dark] .colab-df-convert {\n",
              "      background-color: #3B4455;\n",
              "      fill: #D2E3FC;\n",
              "    }\n",
              "\n",
              "    [theme=dark] .colab-df-convert:hover {\n",
              "      background-color: #434B5C;\n",
              "      box-shadow: 0px 1px 3px 1px rgba(0, 0, 0, 0.15);\n",
              "      filter: drop-shadow(0px 1px 2px rgba(0, 0, 0, 0.3));\n",
              "      fill: #FFFFFF;\n",
              "    }\n",
              "  </style>\n",
              "\n",
              "    <script>\n",
              "      const buttonEl =\n",
              "        document.querySelector('#df-b48772d3-7b6a-48a1-bee7-4c5bf24362bf button.colab-df-convert');\n",
              "      buttonEl.style.display =\n",
              "        google.colab.kernel.accessAllowed ? 'block' : 'none';\n",
              "\n",
              "      async function convertToInteractive(key) {\n",
              "        const element = document.querySelector('#df-b48772d3-7b6a-48a1-bee7-4c5bf24362bf');\n",
              "        const dataTable =\n",
              "          await google.colab.kernel.invokeFunction('convertToInteractive',\n",
              "                                                    [key], {});\n",
              "        if (!dataTable) return;\n",
              "\n",
              "        const docLinkHtml = 'Like what you see? Visit the ' +\n",
              "          '<a target=\"_blank\" href=https://colab.research.google.com/notebooks/data_table.ipynb>data table notebook</a>'\n",
              "          + ' to learn more about interactive tables.';\n",
              "        element.innerHTML = '';\n",
              "        dataTable['output_type'] = 'display_data';\n",
              "        await google.colab.output.renderOutput(dataTable, element);\n",
              "        const docLink = document.createElement('div');\n",
              "        docLink.innerHTML = docLinkHtml;\n",
              "        element.appendChild(docLink);\n",
              "      }\n",
              "    </script>\n",
              "  </div>\n",
              "\n",
              "\n",
              "    <div id=\"df-9453519d-95bb-497b-ad98-76b86a2aff90\">\n",
              "      <button class=\"colab-df-quickchart\" onclick=\"quickchart('df-9453519d-95bb-497b-ad98-76b86a2aff90')\"\n",
              "                title=\"Suggest charts\"\n",
              "                style=\"display:none;\">\n",
              "\n",
              "<svg xmlns=\"http://www.w3.org/2000/svg\" height=\"24px\"viewBox=\"0 0 24 24\"\n",
              "     width=\"24px\">\n",
              "    <g>\n",
              "        <path d=\"M19 3H5c-1.1 0-2 .9-2 2v14c0 1.1.9 2 2 2h14c1.1 0 2-.9 2-2V5c0-1.1-.9-2-2-2zM9 17H7v-7h2v7zm4 0h-2V7h2v10zm4 0h-2v-4h2v4z\"/>\n",
              "    </g>\n",
              "</svg>\n",
              "      </button>\n",
              "\n",
              "<style>\n",
              "  .colab-df-quickchart {\n",
              "      --bg-color: #E8F0FE;\n",
              "      --fill-color: #1967D2;\n",
              "      --hover-bg-color: #E2EBFA;\n",
              "      --hover-fill-color: #174EA6;\n",
              "      --disabled-fill-color: #AAA;\n",
              "      --disabled-bg-color: #DDD;\n",
              "  }\n",
              "\n",
              "  [theme=dark] .colab-df-quickchart {\n",
              "      --bg-color: #3B4455;\n",
              "      --fill-color: #D2E3FC;\n",
              "      --hover-bg-color: #434B5C;\n",
              "      --hover-fill-color: #FFFFFF;\n",
              "      --disabled-bg-color: #3B4455;\n",
              "      --disabled-fill-color: #666;\n",
              "  }\n",
              "\n",
              "  .colab-df-quickchart {\n",
              "    background-color: var(--bg-color);\n",
              "    border: none;\n",
              "    border-radius: 50%;\n",
              "    cursor: pointer;\n",
              "    display: none;\n",
              "    fill: var(--fill-color);\n",
              "    height: 32px;\n",
              "    padding: 0;\n",
              "    width: 32px;\n",
              "  }\n",
              "\n",
              "  .colab-df-quickchart:hover {\n",
              "    background-color: var(--hover-bg-color);\n",
              "    box-shadow: 0 1px 2px rgba(60, 64, 67, 0.3), 0 1px 3px 1px rgba(60, 64, 67, 0.15);\n",
              "    fill: var(--button-hover-fill-color);\n",
              "  }\n",
              "\n",
              "  .colab-df-quickchart-complete:disabled,\n",
              "  .colab-df-quickchart-complete:disabled:hover {\n",
              "    background-color: var(--disabled-bg-color);\n",
              "    fill: var(--disabled-fill-color);\n",
              "    box-shadow: none;\n",
              "  }\n",
              "\n",
              "  .colab-df-spinner {\n",
              "    border: 2px solid var(--fill-color);\n",
              "    border-color: transparent;\n",
              "    border-bottom-color: var(--fill-color);\n",
              "    animation:\n",
              "      spin 1s steps(1) infinite;\n",
              "  }\n",
              "\n",
              "  @keyframes spin {\n",
              "    0% {\n",
              "      border-color: transparent;\n",
              "      border-bottom-color: var(--fill-color);\n",
              "      border-left-color: var(--fill-color);\n",
              "    }\n",
              "    20% {\n",
              "      border-color: transparent;\n",
              "      border-left-color: var(--fill-color);\n",
              "      border-top-color: var(--fill-color);\n",
              "    }\n",
              "    30% {\n",
              "      border-color: transparent;\n",
              "      border-left-color: var(--fill-color);\n",
              "      border-top-color: var(--fill-color);\n",
              "      border-right-color: var(--fill-color);\n",
              "    }\n",
              "    40% {\n",
              "      border-color: transparent;\n",
              "      border-right-color: var(--fill-color);\n",
              "      border-top-color: var(--fill-color);\n",
              "    }\n",
              "    60% {\n",
              "      border-color: transparent;\n",
              "      border-right-color: var(--fill-color);\n",
              "    }\n",
              "    80% {\n",
              "      border-color: transparent;\n",
              "      border-right-color: var(--fill-color);\n",
              "      border-bottom-color: var(--fill-color);\n",
              "    }\n",
              "    90% {\n",
              "      border-color: transparent;\n",
              "      border-bottom-color: var(--fill-color);\n",
              "    }\n",
              "  }\n",
              "</style>\n",
              "\n",
              "      <script>\n",
              "        async function quickchart(key) {\n",
              "          const quickchartButtonEl =\n",
              "            document.querySelector('#' + key + ' button');\n",
              "          quickchartButtonEl.disabled = true;  // To prevent multiple clicks.\n",
              "          quickchartButtonEl.classList.add('colab-df-spinner');\n",
              "          try {\n",
              "            const charts = await google.colab.kernel.invokeFunction(\n",
              "                'suggestCharts', [key], {});\n",
              "          } catch (error) {\n",
              "            console.error('Error during call to suggestCharts:', error);\n",
              "          }\n",
              "          quickchartButtonEl.classList.remove('colab-df-spinner');\n",
              "          quickchartButtonEl.classList.add('colab-df-quickchart-complete');\n",
              "        }\n",
              "        (() => {\n",
              "          let quickchartButtonEl =\n",
              "            document.querySelector('#df-9453519d-95bb-497b-ad98-76b86a2aff90 button');\n",
              "          quickchartButtonEl.style.display =\n",
              "            google.colab.kernel.accessAllowed ? 'block' : 'none';\n",
              "        })();\n",
              "      </script>\n",
              "    </div>\n",
              "\n",
              "    </div>\n",
              "  </div>\n"
            ],
            "application/vnd.google.colaboratory.intrinsic+json": {
              "type": "dataframe",
              "variable_name": "df",
              "summary": "{\n  \"name\": \"df\",\n  \"rows\": 5,\n  \"fields\": [\n    {\n      \"column\": \"total\",\n      \"properties\": {\n        \"dtype\": \"number\",\n        \"std\": 0.6134472267440778,\n        \"min\": -3.093,\n        \"max\": -1.58,\n        \"num_unique_values\": 5,\n        \"samples\": [\n          -2.519,\n          -1.58,\n          -1.957\n        ],\n        \"semantic_type\": \"\",\n        \"description\": \"\"\n      }\n    },\n    {\n      \"column\": \"inter\",\n      \"properties\": {\n        \"dtype\": \"number\",\n        \"std\": 0.9007019484824045,\n        \"min\": -5.173,\n        \"max\": -2.89,\n        \"num_unique_values\": 5,\n        \"samples\": [\n          -4.607,\n          -2.89,\n          -3.477\n        ],\n        \"semantic_type\": \"\",\n        \"description\": \"\"\n      }\n    },\n    {\n      \"column\": \"intra\",\n      \"properties\": {\n        \"dtype\": \"number\",\n        \"std\": 0.38327053108737696,\n        \"min\": -0.137,\n        \"max\": 0.871,\n        \"num_unique_values\": 5,\n        \"samples\": [\n          0.258,\n          0.11,\n          0.066\n        ],\n        \"semantic_type\": \"\",\n        \"description\": \"\"\n      }\n    },\n    {\n      \"column\": \"torsions\",\n      \"properties\": {\n        \"dtype\": \"number\",\n        \"std\": 0.41225538201459544,\n        \"min\": 1.063,\n        \"max\": 2.08,\n        \"num_unique_values\": 5,\n        \"samples\": [\n          1.693,\n          1.063,\n          1.316\n        ],\n        \"semantic_type\": \"\",\n        \"description\": \"\"\n      }\n    },\n    {\n      \"column\": \"intra best pose\",\n      \"properties\": {\n        \"dtype\": \"number\",\n        \"std\": 0.0,\n        \"min\": -0.137,\n        \"max\": -0.137,\n        \"num_unique_values\": 1,\n        \"samples\": [\n          -0.137\n        ],\n        \"semantic_type\": \"\",\n        \"description\": \"\"\n      }\n    }\n  ]\n}"
            }
          },
          "metadata": {},
          "execution_count": 10
        }
      ]
    },
    {
      "cell_type": "markdown",
      "source": [
        "# **Use the native BOG position**"
      ],
      "metadata": {
        "id": "r9Ahm-FBjO4b"
      }
    },
    {
      "cell_type": "code",
      "source": [
        "# Define the docking area based on native ligand\n",
        "native = ligand_select.center_of_geometry()\n",
        "print(native)"
      ],
      "metadata": {
        "colab": {
          "base_uri": "https://localhost:8080/"
        },
        "id": "6B3tTYg4jU9I",
        "outputId": "ad47edb4-83f4-4f54-f6e0-f95fb1de914b"
      },
      "execution_count": 5,
      "outputs": [
        {
          "output_type": "stream",
          "name": "stdout",
          "text": [
            "[ 4.42795833 15.4547708  47.4288125 ]\n"
          ]
        }
      ]
    },
    {
      "cell_type": "code",
      "source": [
        "native = native.tolist()"
      ],
      "metadata": {
        "id": "ES-0w8FMj4FB"
      },
      "execution_count": 6,
      "outputs": []
    },
    {
      "cell_type": "code",
      "source": [
        "# Selecting the scoring function method\n",
        "from vina import Vina\n",
        "v = Vina(sf_name='vina')\n",
        "\n",
        "# Defining the molecules\n",
        "v.set_receptor('/content/1LPB_restrain_xr.pdbqt')\n",
        "v.set_ligand_from_file('/content/BOG_ideal.pdbqt')\n",
        "v.compute_vina_maps(center=native, box_size=box_size)"
      ],
      "metadata": {
        "id": "RmUpiZ5Mj4K-"
      },
      "execution_count": null,
      "outputs": []
    },
    {
      "cell_type": "markdown",
      "source": [
        "Running the Docking Process"
      ],
      "metadata": {
        "id": "Ubi0x56KkpfH"
      }
    },
    {
      "cell_type": "code",
      "source": [
        "v.dock(exhaustiveness=32, n_poses=5)"
      ],
      "metadata": {
        "id": "UTDqXowLj4S6"
      },
      "execution_count": null,
      "outputs": []
    },
    {
      "cell_type": "code",
      "source": [
        "v.write_poses('BOG_native.pdbqt', n_poses=5, overwrite=True)"
      ],
      "metadata": {
        "id": "vv8LPD0okJxO"
      },
      "execution_count": null,
      "outputs": []
    },
    {
      "cell_type": "code",
      "source": [
        "v.energies()"
      ],
      "metadata": {
        "colab": {
          "base_uri": "https://localhost:8080/"
        },
        "id": "IVmCciDekLzt",
        "outputId": "1e7b458a-f1e4-4716-d800-701c068de034"
      },
      "execution_count": null,
      "outputs": [
        {
          "output_type": "execute_result",
          "data": {
            "text/plain": [
              "array([[-5.583, -9.336, -1.182,  3.753, -1.182],\n",
              "       [-5.498, -9.748, -0.628,  3.696, -1.182],\n",
              "       [-5.454, -9.505, -0.798,  3.667, -1.182],\n",
              "       [-5.441, -9.324, -0.958,  3.658, -1.182],\n",
              "       [-5.315, -9.172, -0.899,  3.574, -1.182]])"
            ]
          },
          "metadata": {},
          "execution_count": 16
        }
      ]
    },
    {
      "cell_type": "code",
      "source": [
        "import pandas as pd\n",
        "\n",
        "# Adding columns name\n",
        "column_names = ['total', 'inter', 'intra', 'torsions', 'intra best pose']\n",
        "\n",
        "df = pd.DataFrame(v.energies(), columns=column_names)\n",
        "df.head()"
      ],
      "metadata": {
        "colab": {
          "base_uri": "https://localhost:8080/",
          "height": 206
        },
        "id": "LL3pzWQ3kL3T",
        "outputId": "d2f9d681-22f3-4e2a-b118-3a8ba18e65f7"
      },
      "execution_count": null,
      "outputs": [
        {
          "output_type": "execute_result",
          "data": {
            "text/plain": [
              "   total  inter  intra  torsions  intra best pose\n",
              "0 -5.583 -9.336 -1.182     3.753           -1.182\n",
              "1 -5.498 -9.748 -0.628     3.696           -1.182\n",
              "2 -5.454 -9.505 -0.798     3.667           -1.182\n",
              "3 -5.441 -9.324 -0.958     3.658           -1.182\n",
              "4 -5.315 -9.172 -0.899     3.574           -1.182"
            ],
            "text/html": [
              "\n",
              "  <div id=\"df-7adde5ca-66c4-40a1-b677-c9dd1fb8ce17\" class=\"colab-df-container\">\n",
              "    <div>\n",
              "<style scoped>\n",
              "    .dataframe tbody tr th:only-of-type {\n",
              "        vertical-align: middle;\n",
              "    }\n",
              "\n",
              "    .dataframe tbody tr th {\n",
              "        vertical-align: top;\n",
              "    }\n",
              "\n",
              "    .dataframe thead th {\n",
              "        text-align: right;\n",
              "    }\n",
              "</style>\n",
              "<table border=\"1\" class=\"dataframe\">\n",
              "  <thead>\n",
              "    <tr style=\"text-align: right;\">\n",
              "      <th></th>\n",
              "      <th>total</th>\n",
              "      <th>inter</th>\n",
              "      <th>intra</th>\n",
              "      <th>torsions</th>\n",
              "      <th>intra best pose</th>\n",
              "    </tr>\n",
              "  </thead>\n",
              "  <tbody>\n",
              "    <tr>\n",
              "      <th>0</th>\n",
              "      <td>-5.583</td>\n",
              "      <td>-9.336</td>\n",
              "      <td>-1.182</td>\n",
              "      <td>3.753</td>\n",
              "      <td>-1.182</td>\n",
              "    </tr>\n",
              "    <tr>\n",
              "      <th>1</th>\n",
              "      <td>-5.498</td>\n",
              "      <td>-9.748</td>\n",
              "      <td>-0.628</td>\n",
              "      <td>3.696</td>\n",
              "      <td>-1.182</td>\n",
              "    </tr>\n",
              "    <tr>\n",
              "      <th>2</th>\n",
              "      <td>-5.454</td>\n",
              "      <td>-9.505</td>\n",
              "      <td>-0.798</td>\n",
              "      <td>3.667</td>\n",
              "      <td>-1.182</td>\n",
              "    </tr>\n",
              "    <tr>\n",
              "      <th>3</th>\n",
              "      <td>-5.441</td>\n",
              "      <td>-9.324</td>\n",
              "      <td>-0.958</td>\n",
              "      <td>3.658</td>\n",
              "      <td>-1.182</td>\n",
              "    </tr>\n",
              "    <tr>\n",
              "      <th>4</th>\n",
              "      <td>-5.315</td>\n",
              "      <td>-9.172</td>\n",
              "      <td>-0.899</td>\n",
              "      <td>3.574</td>\n",
              "      <td>-1.182</td>\n",
              "    </tr>\n",
              "  </tbody>\n",
              "</table>\n",
              "</div>\n",
              "    <div class=\"colab-df-buttons\">\n",
              "\n",
              "  <div class=\"colab-df-container\">\n",
              "    <button class=\"colab-df-convert\" onclick=\"convertToInteractive('df-7adde5ca-66c4-40a1-b677-c9dd1fb8ce17')\"\n",
              "            title=\"Convert this dataframe to an interactive table.\"\n",
              "            style=\"display:none;\">\n",
              "\n",
              "  <svg xmlns=\"http://www.w3.org/2000/svg\" height=\"24px\" viewBox=\"0 -960 960 960\">\n",
              "    <path d=\"M120-120v-720h720v720H120Zm60-500h600v-160H180v160Zm220 220h160v-160H400v160Zm0 220h160v-160H400v160ZM180-400h160v-160H180v160Zm440 0h160v-160H620v160ZM180-180h160v-160H180v160Zm440 0h160v-160H620v160Z\"/>\n",
              "  </svg>\n",
              "    </button>\n",
              "\n",
              "  <style>\n",
              "    .colab-df-container {\n",
              "      display:flex;\n",
              "      gap: 12px;\n",
              "    }\n",
              "\n",
              "    .colab-df-convert {\n",
              "      background-color: #E8F0FE;\n",
              "      border: none;\n",
              "      border-radius: 50%;\n",
              "      cursor: pointer;\n",
              "      display: none;\n",
              "      fill: #1967D2;\n",
              "      height: 32px;\n",
              "      padding: 0 0 0 0;\n",
              "      width: 32px;\n",
              "    }\n",
              "\n",
              "    .colab-df-convert:hover {\n",
              "      background-color: #E2EBFA;\n",
              "      box-shadow: 0px 1px 2px rgba(60, 64, 67, 0.3), 0px 1px 3px 1px rgba(60, 64, 67, 0.15);\n",
              "      fill: #174EA6;\n",
              "    }\n",
              "\n",
              "    .colab-df-buttons div {\n",
              "      margin-bottom: 4px;\n",
              "    }\n",
              "\n",
              "    [theme=dark] .colab-df-convert {\n",
              "      background-color: #3B4455;\n",
              "      fill: #D2E3FC;\n",
              "    }\n",
              "\n",
              "    [theme=dark] .colab-df-convert:hover {\n",
              "      background-color: #434B5C;\n",
              "      box-shadow: 0px 1px 3px 1px rgba(0, 0, 0, 0.15);\n",
              "      filter: drop-shadow(0px 1px 2px rgba(0, 0, 0, 0.3));\n",
              "      fill: #FFFFFF;\n",
              "    }\n",
              "  </style>\n",
              "\n",
              "    <script>\n",
              "      const buttonEl =\n",
              "        document.querySelector('#df-7adde5ca-66c4-40a1-b677-c9dd1fb8ce17 button.colab-df-convert');\n",
              "      buttonEl.style.display =\n",
              "        google.colab.kernel.accessAllowed ? 'block' : 'none';\n",
              "\n",
              "      async function convertToInteractive(key) {\n",
              "        const element = document.querySelector('#df-7adde5ca-66c4-40a1-b677-c9dd1fb8ce17');\n",
              "        const dataTable =\n",
              "          await google.colab.kernel.invokeFunction('convertToInteractive',\n",
              "                                                    [key], {});\n",
              "        if (!dataTable) return;\n",
              "\n",
              "        const docLinkHtml = 'Like what you see? Visit the ' +\n",
              "          '<a target=\"_blank\" href=https://colab.research.google.com/notebooks/data_table.ipynb>data table notebook</a>'\n",
              "          + ' to learn more about interactive tables.';\n",
              "        element.innerHTML = '';\n",
              "        dataTable['output_type'] = 'display_data';\n",
              "        await google.colab.output.renderOutput(dataTable, element);\n",
              "        const docLink = document.createElement('div');\n",
              "        docLink.innerHTML = docLinkHtml;\n",
              "        element.appendChild(docLink);\n",
              "      }\n",
              "    </script>\n",
              "  </div>\n",
              "\n",
              "\n",
              "    <div id=\"df-d3ad64a6-5f55-4d32-aed3-01d390871547\">\n",
              "      <button class=\"colab-df-quickchart\" onclick=\"quickchart('df-d3ad64a6-5f55-4d32-aed3-01d390871547')\"\n",
              "                title=\"Suggest charts\"\n",
              "                style=\"display:none;\">\n",
              "\n",
              "<svg xmlns=\"http://www.w3.org/2000/svg\" height=\"24px\"viewBox=\"0 0 24 24\"\n",
              "     width=\"24px\">\n",
              "    <g>\n",
              "        <path d=\"M19 3H5c-1.1 0-2 .9-2 2v14c0 1.1.9 2 2 2h14c1.1 0 2-.9 2-2V5c0-1.1-.9-2-2-2zM9 17H7v-7h2v7zm4 0h-2V7h2v10zm4 0h-2v-4h2v4z\"/>\n",
              "    </g>\n",
              "</svg>\n",
              "      </button>\n",
              "\n",
              "<style>\n",
              "  .colab-df-quickchart {\n",
              "      --bg-color: #E8F0FE;\n",
              "      --fill-color: #1967D2;\n",
              "      --hover-bg-color: #E2EBFA;\n",
              "      --hover-fill-color: #174EA6;\n",
              "      --disabled-fill-color: #AAA;\n",
              "      --disabled-bg-color: #DDD;\n",
              "  }\n",
              "\n",
              "  [theme=dark] .colab-df-quickchart {\n",
              "      --bg-color: #3B4455;\n",
              "      --fill-color: #D2E3FC;\n",
              "      --hover-bg-color: #434B5C;\n",
              "      --hover-fill-color: #FFFFFF;\n",
              "      --disabled-bg-color: #3B4455;\n",
              "      --disabled-fill-color: #666;\n",
              "  }\n",
              "\n",
              "  .colab-df-quickchart {\n",
              "    background-color: var(--bg-color);\n",
              "    border: none;\n",
              "    border-radius: 50%;\n",
              "    cursor: pointer;\n",
              "    display: none;\n",
              "    fill: var(--fill-color);\n",
              "    height: 32px;\n",
              "    padding: 0;\n",
              "    width: 32px;\n",
              "  }\n",
              "\n",
              "  .colab-df-quickchart:hover {\n",
              "    background-color: var(--hover-bg-color);\n",
              "    box-shadow: 0 1px 2px rgba(60, 64, 67, 0.3), 0 1px 3px 1px rgba(60, 64, 67, 0.15);\n",
              "    fill: var(--button-hover-fill-color);\n",
              "  }\n",
              "\n",
              "  .colab-df-quickchart-complete:disabled,\n",
              "  .colab-df-quickchart-complete:disabled:hover {\n",
              "    background-color: var(--disabled-bg-color);\n",
              "    fill: var(--disabled-fill-color);\n",
              "    box-shadow: none;\n",
              "  }\n",
              "\n",
              "  .colab-df-spinner {\n",
              "    border: 2px solid var(--fill-color);\n",
              "    border-color: transparent;\n",
              "    border-bottom-color: var(--fill-color);\n",
              "    animation:\n",
              "      spin 1s steps(1) infinite;\n",
              "  }\n",
              "\n",
              "  @keyframes spin {\n",
              "    0% {\n",
              "      border-color: transparent;\n",
              "      border-bottom-color: var(--fill-color);\n",
              "      border-left-color: var(--fill-color);\n",
              "    }\n",
              "    20% {\n",
              "      border-color: transparent;\n",
              "      border-left-color: var(--fill-color);\n",
              "      border-top-color: var(--fill-color);\n",
              "    }\n",
              "    30% {\n",
              "      border-color: transparent;\n",
              "      border-left-color: var(--fill-color);\n",
              "      border-top-color: var(--fill-color);\n",
              "      border-right-color: var(--fill-color);\n",
              "    }\n",
              "    40% {\n",
              "      border-color: transparent;\n",
              "      border-right-color: var(--fill-color);\n",
              "      border-top-color: var(--fill-color);\n",
              "    }\n",
              "    60% {\n",
              "      border-color: transparent;\n",
              "      border-right-color: var(--fill-color);\n",
              "    }\n",
              "    80% {\n",
              "      border-color: transparent;\n",
              "      border-right-color: var(--fill-color);\n",
              "      border-bottom-color: var(--fill-color);\n",
              "    }\n",
              "    90% {\n",
              "      border-color: transparent;\n",
              "      border-bottom-color: var(--fill-color);\n",
              "    }\n",
              "  }\n",
              "</style>\n",
              "\n",
              "      <script>\n",
              "        async function quickchart(key) {\n",
              "          const quickchartButtonEl =\n",
              "            document.querySelector('#' + key + ' button');\n",
              "          quickchartButtonEl.disabled = true;  // To prevent multiple clicks.\n",
              "          quickchartButtonEl.classList.add('colab-df-spinner');\n",
              "          try {\n",
              "            const charts = await google.colab.kernel.invokeFunction(\n",
              "                'suggestCharts', [key], {});\n",
              "          } catch (error) {\n",
              "            console.error('Error during call to suggestCharts:', error);\n",
              "          }\n",
              "          quickchartButtonEl.classList.remove('colab-df-spinner');\n",
              "          quickchartButtonEl.classList.add('colab-df-quickchart-complete');\n",
              "        }\n",
              "        (() => {\n",
              "          let quickchartButtonEl =\n",
              "            document.querySelector('#df-d3ad64a6-5f55-4d32-aed3-01d390871547 button');\n",
              "          quickchartButtonEl.style.display =\n",
              "            google.colab.kernel.accessAllowed ? 'block' : 'none';\n",
              "        })();\n",
              "      </script>\n",
              "    </div>\n",
              "\n",
              "    </div>\n",
              "  </div>\n"
            ],
            "application/vnd.google.colaboratory.intrinsic+json": {
              "type": "dataframe",
              "variable_name": "df",
              "summary": "{\n  \"name\": \"df\",\n  \"rows\": 5,\n  \"fields\": [\n    {\n      \"column\": \"total\",\n      \"properties\": {\n        \"dtype\": \"number\",\n        \"std\": 0.09744075122863119,\n        \"min\": -5.583,\n        \"max\": -5.315,\n        \"num_unique_values\": 5,\n        \"samples\": [\n          -5.498,\n          -5.315,\n          -5.454\n        ],\n        \"semantic_type\": \"\",\n        \"description\": \"\"\n      }\n    },\n    {\n      \"column\": \"inter\",\n      \"properties\": {\n        \"dtype\": \"number\",\n        \"std\": 0.21939690061621164,\n        \"min\": -9.748,\n        \"max\": -9.172,\n        \"num_unique_values\": 5,\n        \"samples\": [\n          -9.748,\n          -9.172,\n          -9.505\n        ],\n        \"semantic_type\": \"\",\n        \"description\": \"\"\n      }\n    },\n    {\n      \"column\": \"intra\",\n      \"properties\": {\n        \"dtype\": \"number\",\n        \"std\": 0.20434774283069534,\n        \"min\": -1.182,\n        \"max\": -0.628,\n        \"num_unique_values\": 5,\n        \"samples\": [\n          -0.628,\n          -0.899,\n          -0.798\n        ],\n        \"semantic_type\": \"\",\n        \"description\": \"\"\n      }\n    },\n    {\n      \"column\": \"torsions\",\n      \"properties\": {\n        \"dtype\": \"number\",\n        \"std\": 0.06506381482821319,\n        \"min\": 3.574,\n        \"max\": 3.753,\n        \"num_unique_values\": 5,\n        \"samples\": [\n          3.696,\n          3.574,\n          3.667\n        ],\n        \"semantic_type\": \"\",\n        \"description\": \"\"\n      }\n    },\n    {\n      \"column\": \"intra best pose\",\n      \"properties\": {\n        \"dtype\": \"number\",\n        \"std\": 0.0,\n        \"min\": -1.182,\n        \"max\": -1.182,\n        \"num_unique_values\": 1,\n        \"samples\": [\n          -1.182\n        ],\n        \"semantic_type\": \"\",\n        \"description\": \"\"\n      }\n    }\n  ]\n}"
            }
          },
          "metadata": {},
          "execution_count": 17
        }
      ]
    },
    {
      "cell_type": "markdown",
      "source": [
        "# **Actual Docking**"
      ],
      "metadata": {
        "id": "toj25cnJk4zM"
      }
    },
    {
      "cell_type": "code",
      "source": [
        "# Define the grid box size and coordinate, as we see, the native dock area has better binding score\n",
        "dock_center = native\n",
        "dock_box_size = box_size"
      ],
      "metadata": {
        "id": "ErMqg854mYLF"
      },
      "execution_count": 7,
      "outputs": []
    },
    {
      "cell_type": "markdown",
      "source": [
        "# For Single Ligand"
      ],
      "metadata": {
        "id": "pKRV6hgJGhWS"
      }
    },
    {
      "cell_type": "code",
      "source": [
        "import os\n",
        "from vina import Vina\n",
        "import pandas as pd\n",
        "\n",
        "# Selecting the scoring function method\n",
        "from vina import Vina\n",
        "v = Vina(sf_name='vina')\n",
        "\n",
        "# Defining the molecules\n",
        "v.set_receptor('/content/1lpb_protein.pdbqt')\n",
        "ligand_name = 'orlistat'\n",
        "v.set_ligand_from_file(f'/content/prepared_ligands/{ligand_name}.pdbqt')\n",
        "v.compute_vina_maps(center=native, box_size=box_size)\n",
        "\n",
        "v.dock(exhaustiveness=64, n_poses=5)\n",
        "\n",
        "v.write_poses(f'/content/docking_results/{ligand_name}', n_poses=1, overwrite=True)"
      ],
      "metadata": {
        "id": "4Vy6T3pTbc95"
      },
      "execution_count": null,
      "outputs": []
    },
    {
      "cell_type": "code",
      "source": [
        "v.energies()"
      ],
      "metadata": {
        "id": "10D_0PO-Zhlq"
      },
      "execution_count": null,
      "outputs": []
    },
    {
      "cell_type": "code",
      "source": [
        "import pandas as pd\n",
        "\n",
        "# Adding columns name\n",
        "column_names = ['total', 'inter', 'intra', 'torsions', 'intra best pose']\n",
        "\n",
        "df = pd.DataFrame(v.energies(), columns=column_names)\n",
        "df.head()"
      ],
      "metadata": {
        "id": "hCuS4CJ1Zhs4"
      },
      "execution_count": null,
      "outputs": []
    },
    {
      "cell_type": "code",
      "source": [
        "df.to_csv(f'/content/csv/{ligand_name}.csv', index=False)"
      ],
      "metadata": {
        "id": "TePSn_pgZh0R"
      },
      "execution_count": null,
      "outputs": []
    },
    {
      "cell_type": "markdown",
      "source": [
        "# For Multi Ligands"
      ],
      "metadata": {
        "id": "h5aTSajNxLvr"
      }
    },
    {
      "cell_type": "code",
      "source": [
        "import os\n",
        "from vina import Vina\n",
        "import pandas as pd\n",
        "\n",
        "# --- Configuration Paths ---\n",
        "# Directory containing your prepared ligand .pdbqt files\n",
        "LIGANDS_INPUT_FOLDER = '/content/prepared_ligands/'\n",
        "# Directory where the docked pose .pdbqt files will be saved\n",
        "DOCKING_POSES_OUTPUT_FOLDER = '/content/docking_poses/'\n",
        "# Directory where individual ligand energy CSV files will be saved\n",
        "ENERGY_CSVS_OUTPUT_FOLDER = '/content/energy_csvs/'\n",
        "# Path to your receptor .pdbqt file\n",
        "RECEPTOR_PATH = '/content/1lpb_protein.pdbqt'\n",
        "\n",
        "# --- Ensure Output Directories Exist ---\n",
        "os.makedirs(DOCKING_POSES_OUTPUT_FOLDER, exist_ok=True)\n",
        "os.makedirs(ENERGY_CSVS_OUTPUT_FOLDER, exist_ok=True)\n",
        "\n",
        "# --- Vina Initialization ---\n",
        "print(\"Initializing Vina...\")\n",
        "v = Vina(sf_name='vina')\n",
        "\n",
        "# Set the receptor for docking\n",
        "try:\n",
        "    v.set_receptor(RECEPTOR_PATH)\n",
        "    print(f\"Receptor set: {RECEPTOR_PATH}\")\n",
        "except Exception as e:\n",
        "    print(f\"Error setting receptor from {RECEPTOR_PATH}: {e}\")\n",
        "    print(\"Please ensure the receptor file exists and is correctly formatted.\")\n",
        "    exit() # Exit if receptor cannot be set\n",
        "\n",
        "print(f\"Computing Vina maps with center: {native} and box_size: {box_size}\")\n",
        "try:\n",
        "    v.compute_vina_maps(center=native, box_size=box_size)\n",
        "    print(\"Vina maps computed successfully.\")\n",
        "except Exception as e:\n",
        "    print(f\"Error computing Vina maps: {e}\")\n",
        "    print(\"Please check your 'native' coordinates and 'box_size' values.\")\n",
        "    exit() # Exit if maps cannot be computed\n",
        "\n",
        "# --- Prepare to Process Ligands ---\n",
        "# Define column names for the energy CSVs\n",
        "column_names = ['total_energy', 'inter_energy', 'intra_energy', 'torsions_energy', 'intra_best_pose_energy']\n",
        "\n",
        "# Get list of all .pdbqt ligand files\n",
        "ligand_files = [f for f in os.listdir(LIGANDS_INPUT_FOLDER) if f.endswith('.pdbqt')]\n",
        "print(f\"\\nFound {len(ligand_files)} .pdbqt ligand files in '{LIGANDS_INPUT_FOLDER}'.\")\n",
        "\n",
        "if not ligand_files:\n",
        "    print(f\"No .pdbqt ligand files found. Please ensure your ligands are in '{LIGANDS_INPUT_FOLDER}'.\")\n",
        "else:\n",
        "    # --- Iterate Through Each Ligand ---\n",
        "    for ligand_file in ligand_files:\n",
        "        ligand_name = os.path.splitext(ligand_file)[0] # Get ligand name without extension\n",
        "        ligand_path = os.path.join(LIGANDS_INPUT_FOLDER, ligand_file)\n",
        "\n",
        "        print(f\"\\n--- Processing Ligand: {ligand_name} ---\")\n",
        "\n",
        "        try:\n",
        "            # Set the current ligand for docking\n",
        "            v.set_ligand_from_file(ligand_path)\n",
        "            print(f\"Ligand '{ligand_name}' loaded.\")\n",
        "\n",
        "            # Perform docking\n",
        "            print(\"Starting docking process...\")\n",
        "            v.dock(exhaustiveness=64, n_poses=5) # exhaustiveness and n_poses as per your original request\n",
        "            print(\"Docking complete.\")\n",
        "\n",
        "            # --- Save Docked Pose ---\n",
        "            docked_pose_output_path = os.path.join(DOCKING_POSES_OUTPUT_FOLDER, f'{ligand_name}_docked.pdbqt')\n",
        "            v.write_poses(docked_pose_output_path, n_poses=1, overwrite=True) # Save only the best pose\n",
        "            print(f\"Top docked pose saved to: {docked_pose_output_path}\")\n",
        "\n",
        "            # --- Get and Save Energy Results ---\n",
        "            energies_raw = v.energies()\n",
        "\n",
        "            # Convert raw energies to a list for consistent processing\n",
        "            energies = []\n",
        "            if energies_raw is not None:\n",
        "                try:\n",
        "                    energies = list(energies_raw)\n",
        "                except TypeError:\n",
        "                    print(f\"Warning: v.energies() for {ligand_name} returned an unexpected type ({type(energies_raw)}). Skipping energy CSV for this ligand.\")\n",
        "\n",
        "            if energies and len(energies) > 0:\n",
        "                best_pose_energies = energies[0] # Get energies for the best pose\n",
        "\n",
        "                # Convert all energy values to float, using np.nan for any unconvertible values\n",
        "                # This ensures the DataFrame will always have numeric columns\n",
        "                processed_energies = []\n",
        "                for val in best_pose_energies:\n",
        "                    try:\n",
        "                        processed_energies.append(float(val))\n",
        "                    except (ValueError, TypeError):\n",
        "                        processed_energies.append(np.nan) # Use np.nan for problematic values\n",
        "\n",
        "                # Ensure we have exactly 5 energy values for the DataFrame, padding with np.nan if needed\n",
        "                while len(processed_energies) < 5:\n",
        "                    processed_energies.append(np.nan)\n",
        "\n",
        "                # Create a DataFrame for the current ligand's energies\n",
        "                # We slice to ensure only the first 5 components are used if more are returned by v.energies()\n",
        "                df_ligand_energy = pd.DataFrame([processed_energies[:5]], columns=column_names)\n",
        "\n",
        "                # Save the DataFrame to a specific CSV file for this ligand\n",
        "                energy_csv_output_path = os.path.join(ENERGY_CSVS_OUTPUT_FOLDER, f'{ligand_name}_energies.csv')\n",
        "                df_ligand_energy.to_csv(energy_csv_output_path, index=False)\n",
        "                print(f\"Energies for '{ligand_name}' saved to: {energy_csv_output_path}\")\n",
        "                print(f\"Energies data:\\n{df_ligand_energy.head()}\")\n",
        "            else:\n",
        "                print(f\"No valid energies retrieved for '{ligand_name}'. No energy CSV will be generated for this ligand.\")\n",
        "\n",
        "        except Exception as e:\n",
        "            print(f\"An unexpected error occurred while processing '{ligand_name}': {e}\")\n",
        "            print(f\"Skipping '{ligand_name}' due to error.\")\n",
        "\n",
        "print(\"\\n--- All ligands processed. Script finished. ---\")"
      ],
      "metadata": {
        "id": "4AHhFtkpxPbo",
        "colab": {
          "base_uri": "https://localhost:8080/"
        },
        "outputId": "99cab474-6e17-4577-ad54-063a07bc7522"
      },
      "execution_count": 8,
      "outputs": [
        {
          "output_type": "stream",
          "name": "stdout",
          "text": [
            "Initializing Vina...\n",
            "Receptor set: /content/1lpb_protein.pdbqt\n",
            "Computing Vina maps with center: [4.427958327888821, 15.454770803451538, 47.4288125038147] and box_size: [16.79199981689453, 13.95099925994873, 13.708999633789062]\n",
            "Vina maps computed successfully.\n",
            "\n",
            "Found 11 .pdbqt ligand files in '/content/prepared_ligands/'.\n",
            "\n",
            "--- Processing Ligand: Xanthotoxol ---\n",
            "Ligand 'Xanthotoxol' loaded.\n",
            "Starting docking process...\n",
            "Docking complete.\n",
            "Top docked pose saved to: /content/docking_poses/Xanthotoxol_docked.pdbqt\n",
            "Energies for 'Xanthotoxol' saved to: /content/energy_csvs/Xanthotoxol_energies.csv\n",
            "Energies data:\n",
            "   total_energy  inter_energy  intra_energy  torsions_energy  \\\n",
            "0        -6.823        -7.023           0.0            0.199   \n",
            "\n",
            "   intra_best_pose_energy  \n",
            "0                     0.0  \n",
            "\n",
            "--- Processing Ligand: Quinolone ---\n",
            "Ligand 'Quinolone' loaded.\n",
            "Starting docking process...\n",
            "Docking complete.\n",
            "Top docked pose saved to: /content/docking_poses/Quinolone_docked.pdbqt\n",
            "Energies for 'Quinolone' saved to: /content/energy_csvs/Quinolone_energies.csv\n",
            "Energies data:\n",
            "   total_energy  inter_energy  intra_energy  torsions_energy  \\\n",
            "0        -5.417        -5.417           0.0              0.0   \n",
            "\n",
            "   intra_best_pose_energy  \n",
            "0                     0.0  \n",
            "\n",
            "--- Processing Ligand: Oxycodone ---\n",
            "Ligand 'Oxycodone' loaded.\n",
            "Starting docking process...\n",
            "Docking complete.\n",
            "Top docked pose saved to: /content/docking_poses/Oxycodone_docked.pdbqt\n",
            "Energies for 'Oxycodone' saved to: /content/energy_csvs/Oxycodone_energies.csv\n",
            "Energies data:\n",
            "   total_energy  inter_energy  intra_energy  torsions_energy  \\\n",
            "0        -7.633        -8.302        -0.088            0.669   \n",
            "\n",
            "   intra_best_pose_energy  \n",
            "0                  -0.088  \n",
            "\n",
            "--- Processing Ligand: Styrene ---\n",
            "Ligand 'Styrene' loaded.\n",
            "Starting docking process...\n",
            "Docking complete.\n",
            "Top docked pose saved to: /content/docking_poses/Styrene_docked.pdbqt\n",
            "Energies for 'Styrene' saved to: /content/energy_csvs/Styrene_energies.csv\n",
            "Energies data:\n",
            "   total_energy  inter_energy  intra_energy  torsions_energy  \\\n",
            "0        -4.055        -4.292        -0.065            0.237   \n",
            "\n",
            "   intra_best_pose_energy  \n",
            "0                  -0.065  \n",
            "\n",
            "--- Processing Ligand: orlistat ---\n",
            "Ligand 'orlistat' loaded.\n",
            "Starting docking process...\n",
            "Docking complete.\n",
            "Top docked pose saved to: /content/docking_poses/orlistat_docked.pdbqt\n",
            "Energies for 'orlistat' saved to: /content/energy_csvs/orlistat_energies.csv\n",
            "Energies data:\n",
            "   total_energy  inter_energy  intra_energy  torsions_energy  \\\n",
            "0        -5.875       -13.774        12.984            7.899   \n",
            "\n",
            "   intra_best_pose_energy  \n",
            "0                  12.984  \n",
            "\n",
            "--- Processing Ligand: N-Nitrosopiperidine ---\n",
            "Ligand 'N-Nitrosopiperidine' loaded.\n",
            "Starting docking process...\n",
            "Docking complete.\n",
            "Top docked pose saved to: /content/docking_poses/N-Nitrosopiperidine_docked.pdbqt\n",
            "Energies for 'N-Nitrosopiperidine' saved to: /content/energy_csvs/N-Nitrosopiperidine_energies.csv\n",
            "Energies data:\n",
            "   total_energy  inter_energy  intra_energy  torsions_energy  \\\n",
            "0        -4.442        -4.702        -0.015             0.26   \n",
            "\n",
            "   intra_best_pose_energy  \n",
            "0                  -0.015  \n",
            "\n",
            "--- Processing Ligand: Ricinine ---\n",
            "Ligand 'Ricinine' loaded.\n",
            "Starting docking process...\n",
            "Docking complete.\n",
            "Top docked pose saved to: /content/docking_poses/Ricinine_docked.pdbqt\n",
            "Energies for 'Ricinine' saved to: /content/energy_csvs/Ricinine_energies.csv\n",
            "Energies data:\n",
            "   total_energy  inter_energy  intra_energy  torsions_energy  \\\n",
            "0        -5.213        -5.823        -0.164             0.61   \n",
            "\n",
            "   intra_best_pose_energy  \n",
            "0                  -0.164  \n",
            "\n",
            "--- Processing Ligand: Phenylacetaldehyde ---\n",
            "Ligand 'Phenylacetaldehyde' loaded.\n",
            "Starting docking process...\n",
            "Docking complete.\n",
            "Top docked pose saved to: /content/docking_poses/Phenylacetaldehyde_docked.pdbqt\n",
            "Energies for 'Phenylacetaldehyde' saved to: /content/energy_csvs/Phenylacetaldehyde_energies.csv\n",
            "Energies data:\n",
            "   total_energy  inter_energy  intra_energy  torsions_energy  \\\n",
            "0        -4.428        -4.946        -0.074            0.518   \n",
            "\n",
            "   intra_best_pose_energy  \n",
            "0                  -0.074  \n",
            "\n",
            "--- Processing Ligand: Pargyline ---\n",
            "Ligand 'Pargyline' loaded.\n",
            "Starting docking process...\n",
            "Docking complete.\n",
            "Top docked pose saved to: /content/docking_poses/Pargyline_docked.pdbqt\n",
            "Energies for 'Pargyline' saved to: /content/energy_csvs/Pargyline_energies.csv\n",
            "Energies data:\n",
            "   total_energy  inter_energy  intra_energy  torsions_energy  \\\n",
            "0        -4.798         -5.92        -0.224            1.122   \n",
            "\n",
            "   intra_best_pose_energy  \n",
            "0                  -0.224  \n",
            "\n",
            "--- Processing Ligand: Phenylacetylglycine ---\n",
            "Ligand 'Phenylacetylglycine' loaded.\n",
            "Starting docking process...\n",
            "Docking complete.\n",
            "Top docked pose saved to: /content/docking_poses/Phenylacetylglycine_docked.pdbqt\n",
            "Energies for 'Phenylacetylglycine' saved to: /content/energy_csvs/Phenylacetylglycine_energies.csv\n",
            "Energies data:\n",
            "   total_energy  inter_energy  intra_energy  torsions_energy  \\\n",
            "0        -5.871        -7.416        -0.375            1.545   \n",
            "\n",
            "   intra_best_pose_energy  \n",
            "0                  -0.375  \n",
            "\n",
            "--- Processing Ligand: Tryptamine ---\n",
            "Ligand 'Tryptamine' loaded.\n",
            "Starting docking process...\n",
            "Docking complete.\n",
            "Top docked pose saved to: /content/docking_poses/Tryptamine_docked.pdbqt\n",
            "Energies for 'Tryptamine' saved to: /content/energy_csvs/Tryptamine_energies.csv\n",
            "Energies data:\n",
            "   total_energy  inter_energy  intra_energy  torsions_energy  \\\n",
            "0        -5.367        -6.151        -0.125            0.784   \n",
            "\n",
            "   intra_best_pose_energy  \n",
            "0                  -0.125  \n",
            "\n",
            "--- All ligands processed. Script finished. ---\n"
          ]
        }
      ]
    },
    {
      "cell_type": "markdown",
      "source": [
        "# **Results Handling**"
      ],
      "metadata": {
        "id": "61v-rXaeGMDB"
      }
    },
    {
      "cell_type": "code",
      "source": [
        "import os\n",
        "import pandas as pd\n",
        "from io import StringIO\n",
        "\n",
        "def merge_first_row_csvs_from_folder(directory_path):\n",
        "    \"\"\"\n",
        "    Merges the first row of data from multiple CSV files found in a specified directory,\n",
        "    extracting the ligand name from each filename and adding it as a new column.\n",
        "    It also ensures the 'ligand_name' column is the last column and removes\n",
        "    the '_energies' suffix from the ligand names.\n",
        "\n",
        "    Args:\n",
        "        directory_path (str): The path to the directory containing the CSV files.\n",
        "\n",
        "    Returns:\n",
        "        pandas.DataFrame: A DataFrame containing the merged first rows\n",
        "                          with an added 'ligand_name' column.\n",
        "    \"\"\"\n",
        "    all_data = []\n",
        "\n",
        "    if not os.path.isdir(directory_path):\n",
        "        print(f\"Error: Directory '{directory_path}' not found.\")\n",
        "        return pd.DataFrame()\n",
        "\n",
        "    for filename in os.listdir(directory_path):\n",
        "        if filename.endswith('.csv'):\n",
        "            filepath = os.path.join(directory_path, filename)\n",
        "            try:\n",
        "                # Extract ligand name from the filename\n",
        "                ligand_name = os.path.splitext(filename)[0]\n",
        "\n",
        "                # Remove the '_energies' suffix if present\n",
        "                if ligand_name.endswith('_energies'):\n",
        "                    ligand_name = ligand_name[:-len('_energies')]\n",
        "\n",
        "                with open(filepath, 'r') as f:\n",
        "                    content = f.read()\n",
        "\n",
        "                # Use StringIO to treat the string content as a file\n",
        "                # Read only the first row\n",
        "                df = pd.read_csv(StringIO(content), nrows=1)\n",
        "\n",
        "                # Add the 'ligand_name' column\n",
        "                df['ligand_name'] = ligand_name\n",
        "\n",
        "                # Explicitly reorder columns to ensure 'ligand_name' is the very last column\n",
        "                # This creates a new list of columns with 'ligand_name' at the end\n",
        "                cols = [col for col in df.columns if col != 'ligand_name'] + ['ligand_name']\n",
        "                df = df[cols]\n",
        "\n",
        "                # Append the DataFrame row to our list\n",
        "                all_data.append(df)\n",
        "\n",
        "            except pd.errors.EmptyDataError:\n",
        "                print(f\"Warning: File {filename} is empty or only contains headers. Adding ligand name with None values for energies.\")\n",
        "                # Extract ligand name and remove suffix for empty files too\n",
        "                ligand_name = os.path.splitext(filename)[0]\n",
        "                if ligand_name.endswith('_energies'):\n",
        "                    ligand_name = ligand_name[:-len('_energies')]\n",
        "\n",
        "                # Define the expected columns for consistency, including ligand_name\n",
        "                # The energy columns will be filled with None (which pandas converts to NaN) and only the ligand_name will have a value.\n",
        "                expected_columns = ['total_energy', 'inter_energy', 'intra_energy', 'torsions_energy', 'intra_best_pose_energy', 'ligand_name']\n",
        "                df = pd.DataFrame(columns=expected_columns)\n",
        "                df.loc[0] = [None] * (len(expected_columns) - 1) + [ligand_name]\n",
        "                all_data.append(df)\n",
        "            except Exception as e:\n",
        "                print(f\"Error processing file {filename}: {e}\")\n",
        "                continue\n",
        "\n",
        "    if not all_data:\n",
        "        print(\"No CSV files found or processed in the specified directory.\")\n",
        "        return pd.DataFrame()\n",
        "\n",
        "    # Concatenate all individual DataFrames into one\n",
        "    merged_df = pd.concat(all_data, ignore_index=True)\n",
        "    return merged_df\n",
        "\n",
        "# Set path\n",
        "csv_folder_path = '/content/energy_csvs'\n",
        "\n",
        "merged_results = merge_first_row_csvs_from_folder(csv_folder_path)\n",
        "\n",
        "# Print the merged DataFrame\n",
        "print(\"Merged Results:\")\n",
        "print(merged_results)\n",
        "\n",
        "# Save the DataFrame to a new CSV file\n",
        "merged_results.to_csv('merged_ligand_data.csv', index=False)"
      ],
      "metadata": {
        "id": "rtx_OpiQGKiF",
        "colab": {
          "base_uri": "https://localhost:8080/"
        },
        "outputId": "7b99457d-fc41-4e82-c5c5-bf6c115ca09d"
      },
      "execution_count": 12,
      "outputs": [
        {
          "output_type": "stream",
          "name": "stdout",
          "text": [
            "Merged Results:\n",
            "    total_energy  inter_energy  intra_energy  torsions_energy  \\\n",
            "0         -5.875       -13.774        12.984            7.899   \n",
            "1         -7.633        -8.302        -0.088            0.669   \n",
            "2         -5.367        -6.151        -0.125            0.784   \n",
            "3         -4.428        -4.946        -0.074            0.518   \n",
            "4         -5.871        -7.416        -0.375            1.545   \n",
            "5         -5.213        -5.823        -0.164            0.610   \n",
            "6         -6.823        -7.023         0.000            0.199   \n",
            "7         -4.055        -4.292        -0.065            0.237   \n",
            "8         -5.417        -5.417         0.000            0.000   \n",
            "9         -4.442        -4.702        -0.015            0.260   \n",
            "10        -4.798        -5.920        -0.224            1.122   \n",
            "\n",
            "    intra_best_pose_energy          ligand_name  \n",
            "0                   12.984             orlistat  \n",
            "1                   -0.088            Oxycodone  \n",
            "2                   -0.125           Tryptamine  \n",
            "3                   -0.074   Phenylacetaldehyde  \n",
            "4                   -0.375  Phenylacetylglycine  \n",
            "5                   -0.164             Ricinine  \n",
            "6                    0.000          Xanthotoxol  \n",
            "7                   -0.065              Styrene  \n",
            "8                    0.000            Quinolone  \n",
            "9                   -0.015  N-Nitrosopiperidine  \n",
            "10                  -0.224            Pargyline  \n"
          ]
        }
      ]
    },
    {
      "cell_type": "markdown",
      "source": [
        "**Download the result folders**"
      ],
      "metadata": {
        "id": "0oF-I41lvHY6"
      }
    },
    {
      "cell_type": "code",
      "source": [
        "import shutil\n",
        "shutil.make_archive('/content/docking_poses_1', 'zip', '/content/docking_poses')\n",
        "\n",
        "from google.colab import files\n",
        "files.download('/content/docking_poses_1.zip')"
      ],
      "metadata": {
        "colab": {
          "base_uri": "https://localhost:8080/",
          "height": 17
        },
        "id": "c0qSrgwb2eX3",
        "outputId": "5d1908b3-f281-4711-f18b-3705b7596feb"
      },
      "execution_count": 14,
      "outputs": [
        {
          "output_type": "display_data",
          "data": {
            "text/plain": [
              "<IPython.core.display.Javascript object>"
            ],
            "application/javascript": [
              "\n",
              "    async function download(id, filename, size) {\n",
              "      if (!google.colab.kernel.accessAllowed) {\n",
              "        return;\n",
              "      }\n",
              "      const div = document.createElement('div');\n",
              "      const label = document.createElement('label');\n",
              "      label.textContent = `Downloading \"${filename}\": `;\n",
              "      div.appendChild(label);\n",
              "      const progress = document.createElement('progress');\n",
              "      progress.max = size;\n",
              "      div.appendChild(progress);\n",
              "      document.body.appendChild(div);\n",
              "\n",
              "      const buffers = [];\n",
              "      let downloaded = 0;\n",
              "\n",
              "      const channel = await google.colab.kernel.comms.open(id);\n",
              "      // Send a message to notify the kernel that we're ready.\n",
              "      channel.send({})\n",
              "\n",
              "      for await (const message of channel.messages) {\n",
              "        // Send a message to notify the kernel that we're ready.\n",
              "        channel.send({})\n",
              "        if (message.buffers) {\n",
              "          for (const buffer of message.buffers) {\n",
              "            buffers.push(buffer);\n",
              "            downloaded += buffer.byteLength;\n",
              "            progress.value = downloaded;\n",
              "          }\n",
              "        }\n",
              "      }\n",
              "      const blob = new Blob(buffers, {type: 'application/binary'});\n",
              "      const a = document.createElement('a');\n",
              "      a.href = window.URL.createObjectURL(blob);\n",
              "      a.download = filename;\n",
              "      div.appendChild(a);\n",
              "      a.click();\n",
              "      div.remove();\n",
              "    }\n",
              "  "
            ]
          },
          "metadata": {}
        },
        {
          "output_type": "display_data",
          "data": {
            "text/plain": [
              "<IPython.core.display.Javascript object>"
            ],
            "application/javascript": [
              "download(\"download_848aab77-c259-4a05-b43d-f5dc6d59fcb1\", \"docking_poses_1.zip\", 7516)"
            ]
          },
          "metadata": {}
        }
      ]
    },
    {
      "cell_type": "code",
      "source": [
        "import shutil\n",
        "shutil.make_archive('/content/energy_csv_1', 'zip', '/content/energy_csvs')\n",
        "\n",
        "from google.colab import files\n",
        "files.download('/content/energy_csv_1.zip')"
      ],
      "metadata": {
        "colab": {
          "base_uri": "https://localhost:8080/",
          "height": 17
        },
        "id": "EwmMXJRv3DKm",
        "outputId": "7169c17c-3619-4987-d3bd-5af9d2bfec17"
      },
      "execution_count": 19,
      "outputs": [
        {
          "output_type": "display_data",
          "data": {
            "text/plain": [
              "<IPython.core.display.Javascript object>"
            ],
            "application/javascript": [
              "\n",
              "    async function download(id, filename, size) {\n",
              "      if (!google.colab.kernel.accessAllowed) {\n",
              "        return;\n",
              "      }\n",
              "      const div = document.createElement('div');\n",
              "      const label = document.createElement('label');\n",
              "      label.textContent = `Downloading \"${filename}\": `;\n",
              "      div.appendChild(label);\n",
              "      const progress = document.createElement('progress');\n",
              "      progress.max = size;\n",
              "      div.appendChild(progress);\n",
              "      document.body.appendChild(div);\n",
              "\n",
              "      const buffers = [];\n",
              "      let downloaded = 0;\n",
              "\n",
              "      const channel = await google.colab.kernel.comms.open(id);\n",
              "      // Send a message to notify the kernel that we're ready.\n",
              "      channel.send({})\n",
              "\n",
              "      for await (const message of channel.messages) {\n",
              "        // Send a message to notify the kernel that we're ready.\n",
              "        channel.send({})\n",
              "        if (message.buffers) {\n",
              "          for (const buffer of message.buffers) {\n",
              "            buffers.push(buffer);\n",
              "            downloaded += buffer.byteLength;\n",
              "            progress.value = downloaded;\n",
              "          }\n",
              "        }\n",
              "      }\n",
              "      const blob = new Blob(buffers, {type: 'application/binary'});\n",
              "      const a = document.createElement('a');\n",
              "      a.href = window.URL.createObjectURL(blob);\n",
              "      a.download = filename;\n",
              "      div.appendChild(a);\n",
              "      a.click();\n",
              "      div.remove();\n",
              "    }\n",
              "  "
            ]
          },
          "metadata": {}
        },
        {
          "output_type": "display_data",
          "data": {
            "text/plain": [
              "<IPython.core.display.Javascript object>"
            ],
            "application/javascript": [
              "download(\"download_c8ed0452-b77d-437f-876a-1cedbfc3d4ae\", \"energy_csv_1.zip\", 2202)"
            ]
          },
          "metadata": {}
        }
      ]
    }
  ]
}