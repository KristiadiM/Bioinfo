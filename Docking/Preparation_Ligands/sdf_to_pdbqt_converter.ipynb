{
  "nbformat": 4,
  "nbformat_minor": 0,
  "metadata": {
    "colab": {
      "provenance": []
    },
    "kernelspec": {
      "name": "python3",
      "display_name": "Python 3"
    },
    "language_info": {
      "name": "python"
    }
  },
  "cells": [
    {
      "cell_type": "markdown",
      "source": [
        "**Converting ligands to pdbqt**"
      ],
      "metadata": {
        "id": "BpQ7MjzXnjyB"
      }
    },
    {
      "cell_type": "code",
      "execution_count": 1,
      "metadata": {
        "colab": {
          "base_uri": "https://localhost:8080/"
        },
        "collapsed": true,
        "id": "L6wPFqW-nbxp",
        "outputId": "ee776980-24ec-44b1-cc50-56795de3f107"
      },
      "outputs": [
        {
          "output_type": "stream",
          "name": "stdout",
          "text": [
            "Collecting meeko\n",
            "  Downloading meeko-0.6.1-py3-none-any.whl.metadata (3.4 kB)\n",
            "Requirement already satisfied: numpy>=1.18 in /usr/local/lib/python3.11/dist-packages (from meeko) (2.0.2)\n",
            "Collecting rdkit (from meeko)\n",
            "  Downloading rdkit-2025.3.3-cp311-cp311-manylinux_2_28_x86_64.whl.metadata (4.0 kB)\n",
            "Requirement already satisfied: scipy in /usr/local/lib/python3.11/dist-packages (from meeko) (1.15.3)\n",
            "Collecting gemmi (from meeko)\n",
            "  Downloading gemmi-0.7.1-cp311-cp311-manylinux_2_17_x86_64.manylinux2014_x86_64.whl.metadata (2.3 kB)\n",
            "Requirement already satisfied: Pillow in /usr/local/lib/python3.11/dist-packages (from rdkit->meeko) (11.2.1)\n",
            "Downloading meeko-0.6.1-py3-none-any.whl (280 kB)\n",
            "\u001b[2K   \u001b[90m━━━━━━━━━━━━━━━━━━━━━━━━━━━━━━━━━━━━━━━━\u001b[0m \u001b[32m280.8/280.8 kB\u001b[0m \u001b[31m4.8 MB/s\u001b[0m eta \u001b[36m0:00:00\u001b[0m\n",
            "\u001b[?25hDownloading gemmi-0.7.1-cp311-cp311-manylinux_2_17_x86_64.manylinux2014_x86_64.whl (2.5 MB)\n",
            "\u001b[2K   \u001b[90m━━━━━━━━━━━━━━━━━━━━━━━━━━━━━━━━━━━━━━━━\u001b[0m \u001b[32m2.5/2.5 MB\u001b[0m \u001b[31m42.1 MB/s\u001b[0m eta \u001b[36m0:00:00\u001b[0m\n",
            "\u001b[?25hDownloading rdkit-2025.3.3-cp311-cp311-manylinux_2_28_x86_64.whl (34.9 MB)\n",
            "\u001b[2K   \u001b[90m━━━━━━━━━━━━━━━━━━━━━━━━━━━━━━━━━━━━━━━━\u001b[0m \u001b[32m34.9/34.9 MB\u001b[0m \u001b[31m26.6 MB/s\u001b[0m eta \u001b[36m0:00:00\u001b[0m\n",
            "\u001b[?25hInstalling collected packages: rdkit, gemmi, meeko\n",
            "Successfully installed gemmi-0.7.1 meeko-0.6.1 rdkit-2025.3.3\n"
          ]
        }
      ],
      "source": [
        "! pip install meeko"
      ]
    },
    {
      "cell_type": "code",
      "source": [
        "import os\n",
        "\n",
        "input_dir = '/content/sdf'\n",
        "output_dir = '/content/pdbqt_outputs'\n",
        "\n",
        "os.makedirs(output_dir, exist_ok=True)\n",
        "\n",
        "for filename in os.listdir(input_dir):\n",
        "    if filename.endswith('.sdf'):\n",
        "        base_name = filename.replace('.sdf', '')\n",
        "        input_path = os.path.join(input_dir, filename)\n",
        "        output_path = os.path.join(output_dir, f'{base_name}.pdbqt')\n",
        "        cmd = f'mk_prepare_ligand.py -i {input_path} -o {output_path}'\n",
        "        print(f'Converting: {filename}')\n",
        "        os.system(cmd)"
      ],
      "metadata": {
        "colab": {
          "base_uri": "https://localhost:8080/"
        },
        "id": "hsKgbPv-no1k",
        "outputId": "1355145d-4d3e-4f15-9b70-dee1fd3b8511"
      },
      "execution_count": 4,
      "outputs": [
        {
          "output_type": "stream",
          "name": "stdout",
          "text": [
            "Converting: Lonicerin.sdf\n",
            "Converting: 3,4-Dihydroxy-L-Phenylalanine.sdf\n",
            "Converting: 7-methanesulfinylheptan-1-amine.sdf\n",
            "Converting: L-Asparagine.sdf\n",
            "Converting: Quinoxalinedione + 2Methyl + C5H11O4.sdf\n",
            "Converting: 2-[5-(2-hydroxypropyl)oxolan-2-yl]propanoic acid.sdf\n",
            "Converting: Proline betaine.sdf\n",
            "Converting: 4-Hydroxymandelonitrile.sdf\n",
            "Converting: p-Coumaric acid.sdf\n",
            "Converting: Pterosin B.sdf\n",
            "Converting: BOG_ideal.sdf\n",
            "Converting: Pargyline.sdf\n",
            "Converting: Isoshaftoside.sdf\n",
            "Converting: orlistat.sdf\n",
            "Converting: Dehydrosalsolidine.sdf\n",
            "Converting: L-Tyrosine.sdf\n",
            "Converting: N-Benzyloxycarbonylglycine.sdf\n",
            "Converting: N-Nitrosopiperidine.sdf\n",
            "Converting: Quinolone.sdf\n",
            "Converting: L-Phenylalanine.sdf\n",
            "Converting: 2`-Methylacetanilide.sdf\n",
            "Converting: Cinnamaldehyde.sdf\n",
            "Converting: Styrene.sdf\n",
            "Converting: N-Acetyl-L-Phenylalanine.sdf\n",
            "Converting: trans-Ferulic acid.sdf\n",
            "Converting: Kynurenic acid.sdf\n",
            "Converting: 8-hydroxy-6,7-dimethoxy-2H-chromen-2-one.sdf\n",
            "Converting: Rhodojaponin V.sdf\n",
            "Converting: gamma-Glutamylleucine.sdf\n",
            "Converting: Angelicin.sdf\n",
            "Converting: Ricinine.sdf\n",
            "Converting: 3-Indoleacetic acid.sdf\n",
            "Converting: Oxycodone.sdf\n",
            "Converting: 5-Hydroxy-3-indoleacetic acid.sdf\n",
            "Converting: Dehydrotumulosic acid.sdf\n",
            "Converting: 1-Methyl-6,7-Dihydroxy-1,2,3,4-Tetrahydroisoquinoline.sdf\n",
            "Converting: D-2-Aminobutyrate.sdf\n",
            "Converting: 5-Methylcytidine.sdf\n",
            "Converting: Phenylacetylglycine.sdf\n",
            "Converting: Indole-3-carboxylic acid.sdf\n",
            "Converting: Tryptamine.sdf\n",
            "Converting: Pantothenic acid.sdf\n",
            "Converting: Cinnamamide.sdf\n",
            "Converting: Betaine.sdf\n",
            "Converting: L-Tryptophan.sdf\n",
            "Converting: Phenylacetaldehyde.sdf\n",
            "Converting: Adenine.sdf\n",
            "Converting: Benzethonium.sdf\n",
            "Converting: Xanthotoxol.sdf\n"
          ]
        }
      ]
    },
    {
      "cell_type": "markdown",
      "source": [
        "**Download the converted results**"
      ],
      "metadata": {
        "id": "S7LTA94UqF_W"
      }
    },
    {
      "cell_type": "code",
      "source": [
        "import shutil\n",
        "from google.colab import files\n",
        "\n",
        "# Step 1: Zip the folder\n",
        "shutil.make_archive('pdbqt_outputs', 'zip', 'pdbqt_outputs')\n",
        "\n",
        "# Step 2: Download the zip file\n",
        "files.download('pdbqt_outputs.zip')"
      ],
      "metadata": {
        "colab": {
          "base_uri": "https://localhost:8080/",
          "height": 17
        },
        "id": "AlTjh9YNqEPg",
        "outputId": "4ce3ce07-ea9d-4199-a58f-ca0a8eb71300"
      },
      "execution_count": 5,
      "outputs": [
        {
          "output_type": "display_data",
          "data": {
            "text/plain": [
              "<IPython.core.display.Javascript object>"
            ],
            "application/javascript": [
              "\n",
              "    async function download(id, filename, size) {\n",
              "      if (!google.colab.kernel.accessAllowed) {\n",
              "        return;\n",
              "      }\n",
              "      const div = document.createElement('div');\n",
              "      const label = document.createElement('label');\n",
              "      label.textContent = `Downloading \"${filename}\": `;\n",
              "      div.appendChild(label);\n",
              "      const progress = document.createElement('progress');\n",
              "      progress.max = size;\n",
              "      div.appendChild(progress);\n",
              "      document.body.appendChild(div);\n",
              "\n",
              "      const buffers = [];\n",
              "      let downloaded = 0;\n",
              "\n",
              "      const channel = await google.colab.kernel.comms.open(id);\n",
              "      // Send a message to notify the kernel that we're ready.\n",
              "      channel.send({})\n",
              "\n",
              "      for await (const message of channel.messages) {\n",
              "        // Send a message to notify the kernel that we're ready.\n",
              "        channel.send({})\n",
              "        if (message.buffers) {\n",
              "          for (const buffer of message.buffers) {\n",
              "            buffers.push(buffer);\n",
              "            downloaded += buffer.byteLength;\n",
              "            progress.value = downloaded;\n",
              "          }\n",
              "        }\n",
              "      }\n",
              "      const blob = new Blob(buffers, {type: 'application/binary'});\n",
              "      const a = document.createElement('a');\n",
              "      a.href = window.URL.createObjectURL(blob);\n",
              "      a.download = filename;\n",
              "      div.appendChild(a);\n",
              "      a.click();\n",
              "      div.remove();\n",
              "    }\n",
              "  "
            ]
          },
          "metadata": {}
        },
        {
          "output_type": "display_data",
          "data": {
            "text/plain": [
              "<IPython.core.display.Javascript object>"
            ],
            "application/javascript": [
              "download(\"download_4f276069-7e15-45b6-a1f6-f01cb779fbd1\", \"pdbqt_outputs.zip\", 22954)"
            ]
          },
          "metadata": {}
        }
      ]
    }
  ]
}